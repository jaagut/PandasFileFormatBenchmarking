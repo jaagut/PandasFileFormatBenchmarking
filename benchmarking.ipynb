{
 "cells": [
  {
   "cell_type": "markdown",
   "metadata": {},
   "source": [
    "# Pandas File Format Benchmarking"
   ]
  },
  {
   "cell_type": "markdown",
   "metadata": {},
   "source": [
    "## Setup and collect benchmark results"
   ]
  },
  {
   "cell_type": "code",
   "execution_count": 1,
   "metadata": {},
   "outputs": [],
   "source": [
    "import numpy as np\n",
    "import pandas as pd\n",
    "\n",
    "# Generate data\n",
    "np.random.seed = 2908\n",
    "DF_SIZE = 1000_000\n",
    "DF = pd.DataFrame({\n",
    "    'a': np.random.rand(DF_SIZE),\n",
    "    'b': np.random.rand(DF_SIZE),\n",
    "    'c': np.random.rand(DF_SIZE),\n",
    "    'd': np.random.rand(DF_SIZE),\n",
    "    'e': np.random.rand(DF_SIZE)\n",
    "})"
   ]
  },
  {
   "cell_type": "code",
   "execution_count": null,
   "metadata": {},
   "outputs": [
    {
     "ename": "",
     "evalue": "",
     "output_type": "error",
     "traceback": [
      "\u001b[1;31mRunning cells with 'Python 3.10.7 ('benchmarking-file-formats-for-cloud-y9I5NZr6-py3.10')' requires ipykernel package.\n",
      "\u001b[1;31mRun the following command to install 'ipykernel' into the Python environment. \n",
      "\u001b[1;31mCommand: '/home/jan/.cache/pypoetry/virtualenvs/benchmarking-file-formats-for-cloud-y9I5NZr6-py3.10/bin/python -m pip install ipykernel -U --force-reinstall'"
     ]
    }
   ],
   "source": [
    "# Calculate and collect results\n",
    "from format_benchmark_tool.format_benchmark_tool import FormatBenchmarkTool\n",
    "\n",
    "results = FormatBenchmarkTool(DF).get_results()"
   ]
  },
  {
   "cell_type": "code",
   "execution_count": null,
   "metadata": {},
   "outputs": [
    {
     "ename": "",
     "evalue": "",
     "output_type": "error",
     "traceback": [
      "\u001b[1;31mRunning cells with 'Python 3.10.7 ('benchmarking-file-formats-for-cloud-y9I5NZr6-py3.10')' requires ipykernel package.\n",
      "\u001b[1;31mRun the following command to install 'ipykernel' into the Python environment. \n",
      "\u001b[1;31mCommand: '/home/jan/.cache/pypoetry/virtualenvs/benchmarking-file-formats-for-cloud-y9I5NZr6-py3.10/bin/python -m pip install ipykernel -U --force-reinstall'"
     ]
    }
   ],
   "source": [
    "# Print results\n",
    "print(results)"
   ]
  }
 ],
 "metadata": {
  "kernelspec": {
   "display_name": "Python 3.10.7 ('benchmarking-file-formats-for-cloud-y9I5NZr6-py3.10')",
   "language": "python",
   "name": "python3"
  },
  "language_info": {
   "codemirror_mode": {
    "name": "ipython",
    "version": 3
   },
   "file_extension": ".py",
   "mimetype": "text/x-python",
   "name": "python",
   "nbconvert_exporter": "python",
   "pygments_lexer": "ipython3",
   "version": "3.10.7"
  },
  "orig_nbformat": 4,
  "vscode": {
   "interpreter": {
    "hash": "84e22a1c5b258dceefcf25b669eae67f977606eb1c6b24a1129a0923c98f1d93"
   }
  }
 },
 "nbformat": 4,
 "nbformat_minor": 2
}

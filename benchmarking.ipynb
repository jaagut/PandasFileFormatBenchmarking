{
 "cells": [
  {
   "cell_type": "markdown",
   "metadata": {},
   "source": [
    "# Pandas File Format Benchmarking"
   ]
  },
  {
   "cell_type": "markdown",
   "metadata": {},
   "source": [
    "## Setup and collect benchmark results"
   ]
  },
  {
   "cell_type": "code",
   "execution_count": null,
   "metadata": {},
   "outputs": [],
   "source": [
    "import numpy as np\n",
    "import pandas as pd\n",
    "\n",
    "# Generate data\n",
    "np.random.seed = 2908\n",
    "DF_SIZE = 1000_000\n",
    "DF = pd.DataFrame({\n",
    "    'a': np.random.rand(DF_SIZE),\n",
    "    'b': np.random.rand(DF_SIZE),\n",
    "    'c': np.random.rand(DF_SIZE),\n",
    "    'd': np.random.rand(DF_SIZE),\n",
    "    'e': np.random.rand(DF_SIZE)\n",
    "})"
   ]
  },
  {
   "cell_type": "code",
   "execution_count": null,
   "metadata": {},
   "outputs": [],
   "source": [
    "# Calculate and collect results\n",
    "from format_benchmark_tool.format_benchmark_tool import FormatBenchmarkTool\n",
    "results = pd.DataFrame(FormatBenchmarkTool(DF, number_of_repeats=3).get_results()).T\n",
    "#print(results)"
   ]
  },
  {
   "cell_type": "markdown",
   "metadata": {},
   "source": [
    "## Analyze results"
   ]
  },
  {
   "cell_type": "code",
   "execution_count": null,
   "metadata": {},
   "outputs": [],
   "source": []
  }
 ],
 "metadata": {
  "kernelspec": {
   "display_name": "Python 3.10.7 ('benchmarking-file-formats-for-cloud-y9I5NZr6-py3.10')",
   "language": "python",
   "name": "python3"
  },
  "language_info": {
   "codemirror_mode": {
    "name": "ipython",
    "version": 3
   },
   "file_extension": ".py",
   "mimetype": "text/x-python",
   "name": "python",
   "nbconvert_exporter": "python",
   "pygments_lexer": "ipython3",
   "version": "3.10.7"
  },
  "orig_nbformat": 4,
  "vscode": {
   "interpreter": {
    "hash": "84e22a1c5b258dceefcf25b669eae67f977606eb1c6b24a1129a0923c98f1d93"
   }
  }
 },
 "nbformat": 4,
 "nbformat_minor": 2
}

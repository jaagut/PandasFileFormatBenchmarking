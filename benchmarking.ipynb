{
 "cells": [
  {
   "cell_type": "markdown",
   "metadata": {},
   "source": [
    "# Pandas File Format Benchmarking"
   ]
  },
  {
   "cell_type": "markdown",
   "metadata": {},
   "source": [
    "## Setup and collect benchmark results"
   ]
  },
  {
   "cell_type": "code",
   "execution_count": null,
   "metadata": {},
   "outputs": [],
   "source": [
    "import numpy as np\n",
    "import pandas as pd\n",
    "\n",
    "number_of_repeats = 20  # How often to repeat benchmarks?\n",
    "\n",
    "# Generate data\n",
    "np.random.seed = 42\n",
    "DF_SIZE = 1000_000\n",
    "DF = pd.DataFrame({\n",
    "    'a': np.random.rand(DF_SIZE),\n",
    "    'b': np.random.rand(DF_SIZE),\n",
    "    'c': np.random.rand(DF_SIZE),\n",
    "    'd': np.random.rand(DF_SIZE),\n",
    "    'e': np.random.rand(DF_SIZE)\n",
    "})"
   ]
  },
  {
   "cell_type": "code",
   "execution_count": null,
   "metadata": {},
   "outputs": [],
   "source": [
    "# Calculate and collect results\n",
    "from format_benchmark_tool.format_benchmark_tool import FormatBenchmarkTool\n",
    "results = pd.DataFrame(FormatBenchmarkTool(DF, number_of_repeats=number_of_repeats).get_results())\n",
    "#results"
   ]
  },
  {
   "cell_type": "markdown",
   "metadata": {},
   "source": [
    "## Analyze results and draw plots"
   ]
  },
  {
   "cell_type": "code",
   "execution_count": null,
   "metadata": {},
   "outputs": [],
   "source": [
    "# Setup\n",
    "import seaborn as sns\n",
    "import matplotlib.pyplot as plt\n",
    "sns.set_theme(palette=\"colorblind\")"
   ]
  },
  {
   "cell_type": "code",
   "execution_count": null,
   "metadata": {},
   "outputs": [],
   "source": [
    "# Prepare time data\n",
    "time_data = pd.DataFrame([], columns=['format', 'time', 'type'])\n",
    "\n",
    "write_times = results[['format', 'write_time']].copy()\n",
    "write_times.rename(columns={'write_time': 'time'}, inplace=True)\n",
    "write_times['type'] = 'Write time'\n",
    "\n",
    "read_times = results[['format', 'read_time']].copy()\n",
    "read_times.rename(columns={'read_time': 'time'}, inplace=True)\n",
    "read_times['type'] = 'Read time'\n",
    "\n",
    "time_data = pd.concat([time_data, write_times, read_times], ignore_index=True)\n",
    "\n",
    "# Plot minimum write and read times (with std deviation) per file format as barplot\n",
    "ax = sns.barplot(data=time_data, x=\"time\", y=\"format\", hue='type', estimator='min', errorbar=\"ci\")\n",
    "ax.set_title(f\"Minimum write and read times per file format with confidence intervals; {number_of_repeats} trials\")\n",
    "ax.xaxis.set_label_text(\"Minimum time [s]\")\n",
    "ax.yaxis.set_label_text(\"File format\")\n",
    "plt.legend(title='Method')\n",
    "\n",
    "for p in ax.patches:\n",
    "    ax.annotate(\n",
    "        str(p.get_width().round(5)), \n",
    "        (p.get_x() + p.get_width(), p.get_y() + p.get_height() / 2), \n",
    "        ha = 'left', va = 'center', \n",
    "        size=10,\n",
    "        xytext = (10, 0), \n",
    "        textcoords = 'offset points')\n",
    "\n",
    "plt.show()"
   ]
  },
  {
   "cell_type": "code",
   "execution_count": null,
   "metadata": {},
   "outputs": [],
   "source": [
    "# Plot file sizes\n",
    "ax = sns.pointplot(data=results, x='file_size', y='format', errorbar='ci', join=False)\n",
    "ax.set_title(\"Size of output file per file format\")\n",
    "ax.xaxis.set_label_text(\"Output file size [Bytes]\")\n",
    "ax.yaxis.set_label_text(\"File format\")"
   ]
  }
 ],
 "metadata": {
  "kernelspec": {
   "display_name": "Python 3.10.7 ('benchmarking-file-formats-for-cloud-y9I5NZr6-py3.10')",
   "language": "python",
   "name": "python3"
  },
  "language_info": {
   "codemirror_mode": {
    "name": "ipython",
    "version": 3
   },
   "file_extension": ".py",
   "mimetype": "text/x-python",
   "name": "python",
   "nbconvert_exporter": "python",
   "pygments_lexer": "ipython3",
   "version": "3.10.7"
  },
  "orig_nbformat": 4,
  "vscode": {
   "interpreter": {
    "hash": "84e22a1c5b258dceefcf25b669eae67f977606eb1c6b24a1129a0923c98f1d93"
   }
  }
 },
 "nbformat": 4,
 "nbformat_minor": 2
}

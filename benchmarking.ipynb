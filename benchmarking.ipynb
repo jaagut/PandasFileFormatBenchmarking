{
 "cells": [
  {
   "cell_type": "markdown",
   "metadata": {},
   "source": [
    "# Pandas File Format Benchmarking"
   ]
  },
  {
   "cell_type": "markdown",
   "metadata": {},
   "source": [
    "## Setup and collect benchmark results"
   ]
  },
  {
   "cell_type": "code",
   "execution_count": null,
   "metadata": {},
   "outputs": [],
   "source": [
    "import os\n",
    "import numpy as np\n",
    "import pandas as pd\n",
    "\n",
    "experiment_name = \"TODO\"\n",
    "number_of_repeats = 10  # How often to repeat benchmarks?\n",
    "output_dir = \"output\"\n",
    "output_file_type = \"png\"  # E.g. pdf of png\n",
    "test_data_path = \"\""
   ]
  },
  {
   "cell_type": "code",
   "execution_count": null,
   "metadata": {},
   "outputs": [],
   "source": [
    "# Read data\n",
    "if test_data_path:\n",
    "    print(\"Reading data...\")\n",
    "    DF = pd.read_csv(test_data_path)\n",
    "else:\n",
    "    # Generate data\n",
    "    print(\"Generating data...\")\n",
    "    np.random.seed = 42\n",
    "    DF_SIZE = 1000_000\n",
    "    DF = pd.DataFrame({\n",
    "        'a': np.random.rand(DF_SIZE),\n",
    "        'b': np.random.rand(DF_SIZE),\n",
    "        'c': np.random.rand(DF_SIZE),\n",
    "        'd': np.random.rand(DF_SIZE),\n",
    "        'e': np.random.rand(DF_SIZE)\n",
    "    })"
   ]
  },
  {
   "cell_type": "code",
   "execution_count": null,
   "metadata": {},
   "outputs": [],
   "source": [
    "# Calculate and collect results\n",
    "from format_benchmark_tool.format_benchmark_tool import FormatBenchmarkTool\n",
    "benchmarking = FormatBenchmarkTool(DF, number_of_repeats=number_of_repeats)\n",
    "memory_usage: float = benchmarking.get_memory_usage()\n",
    "results = pd.DataFrame(benchmarking.get_results())"
   ]
  },
  {
   "cell_type": "code",
   "execution_count": null,
   "metadata": {},
   "outputs": [],
   "source": [
    "# Save the results\n",
    "results.to_csv(os.path.join(output_dir, f\"results_{experiment_name}.csv\"))"
   ]
  },
  {
   "cell_type": "markdown",
   "metadata": {},
   "source": [
    "## Analyze results and draw plots"
   ]
  },
  {
   "cell_type": "code",
   "execution_count": null,
   "metadata": {},
   "outputs": [],
   "source": [
    "# Setup\n",
    "import seaborn as sns\n",
    "import matplotlib.pyplot as plt\n",
    "sns.set_theme(palette=\"colorblind\")"
   ]
  },
  {
   "cell_type": "code",
   "execution_count": null,
   "metadata": {},
   "outputs": [],
   "source": [
    "# Filter for a selection of formats\n",
    "selected_formats = ['csv', 'json', 'xml', 'excel', 'pickle', 'hdf5', 'feather', 'parquet', 'orc', 'stata']\n",
    "selected_idx = results['format'] == selected_formats[0]\n",
    "for format in selected_formats[1:]:\n",
    "    selected_idx += results['format'] == format\n",
    "results = results[selected_idx]"
   ]
  },
  {
   "cell_type": "code",
   "execution_count": null,
   "metadata": {},
   "outputs": [],
   "source": [
    "# Prepare time data\n",
    "time_data = pd.DataFrame([], columns=['format', 'time', 'type'])\n",
    "\n",
    "write_times = results[['format', 'write_time']].copy()\n",
    "write_times.rename(columns={'write_time': 'time'}, inplace=True)\n",
    "write_times['type'] = 'Write time'\n",
    "\n",
    "read_times = results[['format', 'read_time']].copy()\n",
    "read_times.rename(columns={'read_time': 'time'}, inplace=True)\n",
    "read_times['type'] = 'Read time'\n",
    "\n",
    "time_data = pd.concat([time_data, write_times, read_times], ignore_index=True)\n",
    "\n",
    "# Plot minimum write and read times (with std deviation) per file format as barplot\n",
    "ax = sns.barplot(data=time_data, x=\"time\", y=\"format\", hue='type', estimator='min', errorbar=\"ci\")\n",
    "ax.set_title(f\"Minimum write and read times per file format\\nwith confidence intervals; {number_of_repeats} trials\")\n",
    "ax.xaxis.set_label_text(\"Minimum time [s]\")\n",
    "ax.yaxis.set_label_text(\"File format\")\n",
    "plt.legend(title='Method')\n",
    "\n",
    "for p in ax.patches:\n",
    "    ax.annotate(\n",
    "        str(p.get_width().round(5)), \n",
    "        (p.get_x() + p.get_width(), p.get_y() + p.get_height() / 2), \n",
    "        ha = 'left', va = 'center', \n",
    "        size=10,\n",
    "        xytext = (10, 0), \n",
    "        textcoords = 'offset points')\n",
    "\n",
    "plt.savefig(os.path.join(output_dir, f\"time_{experiment_name}.{output_file_type}\"))\n",
    "plt.show()"
   ]
  },
  {
   "cell_type": "code",
   "execution_count": null,
   "metadata": {},
   "outputs": [],
   "source": [
    "# Plot file sizes\n",
    "tmp = results[['format', 'file_size']].copy()\n",
    "\n",
    "# Add in in-memory usage as the first entry as a reference point\n",
    "tmp = pd.concat([pd.DataFrame([['in-memory', memory_usage]], columns=['format', 'file_size']), tmp], ignore_index=True)\n",
    "\n",
    "# Convert to megabytes\n",
    "tmp['file_size_mb'] = tmp['file_size'] / 1024 / 1024\n",
    "\n",
    "ax = sns.pointplot(data=tmp, x='file_size_mb', y='format', errorbar='ci', join=False)\n",
    "ax.set_title(\"Size of output file per file format\")\n",
    "ax.xaxis.set_label_text(\"Output file size [MB]\")\n",
    "ax.yaxis.set_label_text(\"File format\")\n",
    "\n",
    "plt.savefig(os.path.join(output_dir, f\"size_{experiment_name}.{output_file_type}\"))\n",
    "plt.show()"
   ]
  },
  {
   "cell_type": "code",
   "execution_count": null,
   "metadata": {},
   "outputs": [],
   "source": [
    "# Barplot showing the format's file size as a factor compared to in-memory usage\n",
    "# (e.g. 1.5 means the file is 1.5 times larger than the in-memory usage)\n",
    "tmp['factor'] = tmp['file_size'] / memory_usage\n",
    "\n",
    "# Colors representing the size factor (green = small, red = large)\n",
    "# This has to be done on the mean for each format, as the plot uses the mean estimator\n",
    "colors = []\n",
    "for format in tmp['format'].unique():\n",
    "    size_factor = tmp[tmp['format'] == format]['factor'].mean()\n",
    "    if size_factor < 1:\n",
    "        colors.append('green')\n",
    "    elif size_factor > 1:\n",
    "        colors.append('red')\n",
    "    else:\n",
    "        colors.append('black')\n",
    "\n",
    "ax = sns.barplot(data=tmp, x='factor', y='format', palette=colors)\n",
    "ax.set_title(f\"Size of output file as a factor compared to in-memory usage of {memory_usage/1024/1024:.2f} bytes\")\n",
    "ax.xaxis.set_label_text(\"Output file size as a factor of in-memory usage\")\n",
    "ax.yaxis.set_label_text(\"File format\")\n",
    "\n",
    "for p in ax.patches:\n",
    "    ax.annotate(\n",
    "        str(p.get_width().round(5)), \n",
    "        (p.get_x() + p.get_width(), p.get_y() + p.get_height() / 2),\n",
    "        ha = 'left', va = 'center', \n",
    "        size=10,\n",
    "        xytext = (10, 0), \n",
    "        textcoords = 'offset points')\n",
    "    \n",
    "plt.savefig(os.path.join(output_dir, f\"size_factor_{experiment_name}.{output_file_type}\"))\n",
    "plt.show()"
   ]
  }
 ],
 "metadata": {
  "kernelspec": {
   "display_name": "Python 3.10.7 ('benchmarking-file-formats-for-cloud-y9I5NZr6-py3.10')",
   "language": "python",
   "name": "python3"
  },
  "language_info": {
   "codemirror_mode": {
    "name": "ipython",
    "version": 3
   },
   "file_extension": ".py",
   "mimetype": "text/x-python",
   "name": "python",
   "nbconvert_exporter": "python",
   "pygments_lexer": "ipython3",
   "version": "3.10.6"
  },
  "orig_nbformat": 4,
  "vscode": {
   "interpreter": {
    "hash": "84e22a1c5b258dceefcf25b669eae67f977606eb1c6b24a1129a0923c98f1d93"
   }
  }
 },
 "nbformat": 4,
 "nbformat_minor": 2
}

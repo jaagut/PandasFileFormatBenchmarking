{
 "cells": [
  {
   "cell_type": "markdown",
   "id": "ca784181-eb85-411b-aa49-5df59b9c0095",
   "metadata": {
    "tags": []
   },
   "source": [
    "## Upload from local machine to blob store "
   ]
  },
  {
   "cell_type": "code",
   "execution_count": 79,
   "id": "97443769-f516-4f06-8b70-7ee699e2c4f8",
   "metadata": {},
   "outputs": [],
   "source": [
    "from azure.storage.blob import BlobServiceClient, BlobBlock\n",
    "\n",
    "# Usually starts with BlobEndpoint=https://...\n",
    "connection_string = \"REPLACE_THIS\"\n",
    "\n",
    "\n",
    "blob_service_client = BlobServiceClient.from_connection_string(connection_string)\n",
    "container_client = blob_service_client.get_container_client(\"blobcontainerpytest\") "
   ]
  },
  {
   "cell_type": "code",
   "execution_count": 80,
   "id": "68435599-1b25-435f-81c5-71702dceaaa9",
   "metadata": {},
   "outputs": [],
   "source": [
    "#get name of the file for blob Store\n",
    "blob_client = container_client.get_blob_client(\"tester4.txt\")"
   ]
  },
  {
   "cell_type": "code",
   "execution_count": 81,
   "id": "3c5fb461-7a84-42fb-ac15-dd0c0be7be29",
   "metadata": {},
   "outputs": [],
   "source": [
    "# get the local file name\n",
    "with open(\"tester.txt\", \"rb\") as data:\n",
    "    blob_client.upload_blob(data)"
   ]
  },
  {
   "cell_type": "markdown",
   "id": "64a8ebeb-f635-413b-b770-a290aa08adea",
   "metadata": {},
   "source": [
    "## with Csv file (10K.csv)"
   ]
  },
  {
   "cell_type": "code",
   "execution_count": 70,
   "id": "ed81cfa1-e51b-48b0-abf3-6e19abc2d6f0",
   "metadata": {},
   "outputs": [],
   "source": [
    "#get name of the file for blob Store\n",
    "blob_client = container_client.get_blob_client(\"10K1.csv\")"
   ]
  },
  {
   "cell_type": "code",
   "execution_count": 71,
   "id": "de4e0ca9-3cce-4152-b871-0d4b63c3051b",
   "metadata": {},
   "outputs": [],
   "source": [
    "# get the local file name\n",
    "with open(\"10K.csv\", \"rb\") as data:\n",
    "    blob_client.upload_blob(data)"
   ]
  },
  {
   "cell_type": "markdown",
   "id": "4b54ea3d-6c08-44e8-a181-6d403485a725",
   "metadata": {},
   "source": [
    "## with AVRO file (10M.avro)"
   ]
  },
  {
   "cell_type": "code",
   "execution_count": 73,
   "id": "7b65446f-5f33-4b14-b51b-fafee7f56d77",
   "metadata": {},
   "outputs": [],
   "source": [
    "#get name of the file for blob Store\n",
    "blob_client = container_client.get_blob_client(\"10M.avro\")"
   ]
  },
  {
   "cell_type": "code",
   "execution_count": 74,
   "id": "60970cdd-65ab-43b2-a235-3de8e84350f7",
   "metadata": {},
   "outputs": [],
   "source": [
    "# get the local file name\n",
    "with open(\"10M.avro\", \"rb\") as data:\n",
    "    blob_client.upload_blob(data)"
   ]
  },
  {
   "cell_type": "markdown",
   "id": "6b3f6e21-a094-46d3-958d-e46e3ff29017",
   "metadata": {},
   "source": [
    "## with CSV file (10M.csv) to folder"
   ]
  },
  {
   "cell_type": "code",
   "execution_count": 84,
   "id": "bd8c58e0-4120-4166-925e-414929f35802",
   "metadata": {},
   "outputs": [],
   "source": [
    "#get name of the file for blob Store\n",
    "blob_client = container_client.get_blob_client(\"y=2022&m=04&d=18/10M.csv\")"
   ]
  },
  {
   "cell_type": "code",
   "execution_count": 85,
   "id": "72a9dd66-6516-4fb8-98e8-0c08ab7e71fc",
   "metadata": {},
   "outputs": [],
   "source": [
    "# get the local file name\n",
    "with open(\"10M.csv\", \"rb\") as data:\n",
    "    blob_client.upload_blob(data)"
   ]
  }
 ],
 "metadata": {
  "kernelspec": {
   "display_name": "Python 3 (ipykernel)",
   "language": "python",
   "name": "python3"
  },
  "language_info": {
   "codemirror_mode": {
    "name": "ipython",
    "version": 3
   },
   "file_extension": ".py",
   "mimetype": "text/x-python",
   "name": "python",
   "nbconvert_exporter": "python",
   "pygments_lexer": "ipython3",
   "version": "3.9.7"
  }
 },
 "nbformat": 4,
 "nbformat_minor": 5
}
